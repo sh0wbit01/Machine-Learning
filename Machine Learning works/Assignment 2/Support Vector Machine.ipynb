{
 "cells": [
  {
   "cell_type": "code",
   "execution_count": 90,
   "metadata": {
    "scrolled": true
   },
   "outputs": [],
   "source": [
    "import numpy as np\n",
    "import pandas as pd\n",
    "import string\n",
    "\n",
    "df = pd.read_csv('emails.csv')"
   ]
  },
  {
   "cell_type": "code",
   "execution_count": 91,
   "metadata": {},
   "outputs": [
    {
     "data": {
      "text/html": [
       "<div>\n",
       "<style scoped>\n",
       "    .dataframe tbody tr th:only-of-type {\n",
       "        vertical-align: middle;\n",
       "    }\n",
       "\n",
       "    .dataframe tbody tr th {\n",
       "        vertical-align: top;\n",
       "    }\n",
       "\n",
       "    .dataframe thead th {\n",
       "        text-align: right;\n",
       "    }\n",
       "</style>\n",
       "<table border=\"1\" class=\"dataframe\">\n",
       "  <thead>\n",
       "    <tr style=\"text-align: right;\">\n",
       "      <th></th>\n",
       "      <th>text</th>\n",
       "      <th>spam</th>\n",
       "    </tr>\n",
       "  </thead>\n",
       "  <tbody>\n",
       "    <tr>\n",
       "      <th>0</th>\n",
       "      <td>Subject: naturally irresistible your corporate...</td>\n",
       "      <td>1</td>\n",
       "    </tr>\n",
       "    <tr>\n",
       "      <th>1</th>\n",
       "      <td>Subject: the stock trading gunslinger  fanny i...</td>\n",
       "      <td>1</td>\n",
       "    </tr>\n",
       "    <tr>\n",
       "      <th>2</th>\n",
       "      <td>Subject: unbelievable new homes made easy  im ...</td>\n",
       "      <td>1</td>\n",
       "    </tr>\n",
       "    <tr>\n",
       "      <th>3</th>\n",
       "      <td>Subject: 4 color printing special  request add...</td>\n",
       "      <td>1</td>\n",
       "    </tr>\n",
       "    <tr>\n",
       "      <th>4</th>\n",
       "      <td>Subject: do not have money , get software cds ...</td>\n",
       "      <td>1</td>\n",
       "    </tr>\n",
       "  </tbody>\n",
       "</table>\n",
       "</div>"
      ],
      "text/plain": [
       "                                                text  spam\n",
       "0  Subject: naturally irresistible your corporate...     1\n",
       "1  Subject: the stock trading gunslinger  fanny i...     1\n",
       "2  Subject: unbelievable new homes made easy  im ...     1\n",
       "3  Subject: 4 color printing special  request add...     1\n",
       "4  Subject: do not have money , get software cds ...     1"
      ]
     },
     "execution_count": 91,
     "metadata": {},
     "output_type": "execute_result"
    }
   ],
   "source": [
    "df.head()"
   ]
  },
  {
   "cell_type": "code",
   "execution_count": 92,
   "metadata": {
    "scrolled": true
   },
   "outputs": [],
   "source": [
    "df.drop_duplicates(inplace=True)\n",
    "df.reset_index(drop=True,inplace=True)"
   ]
  },
  {
   "cell_type": "code",
   "execution_count": 93,
   "metadata": {
    "scrolled": true
   },
   "outputs": [
    {
     "name": "stderr",
     "output_type": "stream",
     "text": [
      "[nltk_data] Downloading package stopwords to\n",
      "[nltk_data]     C:\\Users\\FALCON\\AppData\\Roaming\\nltk_data...\n",
      "[nltk_data]   Package stopwords is already up-to-date!\n"
     ]
    }
   ],
   "source": [
    "import nltk\n",
    "import re\n",
    "\n",
    "nltk.download('stopwords')\n",
    "from nltk.corpus import stopwords\n",
    "stop = stopwords.words('english')\n"
   ]
  },
  {
   "cell_type": "code",
   "execution_count": 94,
   "metadata": {
    "scrolled": true
   },
   "outputs": [],
   "source": [
    "df['text'] = df['text'].map(lambda text:re.sub('[^a-zA-Z-\\']{1,}', ' ',text))\n",
    "df.text = [x.strip('Subject') for x in df.text]\n",
    "df['text'] = df['text'].apply(lambda x: x.split())"
   ]
  },
  {
   "cell_type": "code",
   "execution_count": 104,
   "metadata": {},
   "outputs": [
    {
     "data": {
      "text/html": [
       "<div>\n",
       "<style scoped>\n",
       "    .dataframe tbody tr th:only-of-type {\n",
       "        vertical-align: middle;\n",
       "    }\n",
       "\n",
       "    .dataframe tbody tr th {\n",
       "        vertical-align: top;\n",
       "    }\n",
       "\n",
       "    .dataframe thead th {\n",
       "        text-align: right;\n",
       "    }\n",
       "</style>\n",
       "<table border=\"1\" class=\"dataframe\">\n",
       "  <thead>\n",
       "    <tr style=\"text-align: right;\">\n",
       "      <th></th>\n",
       "      <th>text</th>\n",
       "      <th>spam</th>\n",
       "    </tr>\n",
       "  </thead>\n",
       "  <tbody>\n",
       "    <tr>\n",
       "      <th>0</th>\n",
       "      <td>[naturally, irresistible, corporate, identity,...</td>\n",
       "      <td>1</td>\n",
       "    </tr>\n",
       "    <tr>\n",
       "      <th>1</th>\n",
       "      <td>[stock, trade, gunslinger, fanny, merrill, muz...</td>\n",
       "      <td>1</td>\n",
       "    </tr>\n",
       "    <tr>\n",
       "      <th>2</th>\n",
       "      <td>[unbelievable, new, home, make, easy, want, sh...</td>\n",
       "      <td>1</td>\n",
       "    </tr>\n",
       "    <tr>\n",
       "      <th>3</th>\n",
       "      <td>[color, print, special, request, additional, i...</td>\n",
       "      <td>1</td>\n",
       "    </tr>\n",
       "    <tr>\n",
       "      <th>4</th>\n",
       "      <td>[money, get, software, software, compatibility...</td>\n",
       "      <td>1</td>\n",
       "    </tr>\n",
       "  </tbody>\n",
       "</table>\n",
       "</div>"
      ],
      "text/plain": [
       "                                                text  spam\n",
       "0  [naturally, irresistible, corporate, identity,...     1\n",
       "1  [stock, trade, gunslinger, fanny, merrill, muz...     1\n",
       "2  [unbelievable, new, home, make, easy, want, sh...     1\n",
       "3  [color, print, special, request, additional, i...     1\n",
       "4  [money, get, software, software, compatibility...     1"
      ]
     },
     "execution_count": 104,
     "metadata": {},
     "output_type": "execute_result"
    }
   ],
   "source": [
    "df.head()"
   ]
  },
  {
   "cell_type": "code",
   "execution_count": 95,
   "metadata": {
    "scrolled": true
   },
   "outputs": [],
   "source": [
    "df['text']=df['text'].apply(lambda text_list: list(filter(lambda text:text not in stop,text_list)))"
   ]
  },
  {
   "cell_type": "code",
   "execution_count": 96,
   "metadata": {
    "scrolled": true
   },
   "outputs": [
    {
     "name": "stderr",
     "output_type": "stream",
     "text": [
      "[nltk_data] Downloading package wordnet to\n",
      "[nltk_data]     C:\\Users\\FALCON\\AppData\\Roaming\\nltk_data...\n",
      "[nltk_data]   Package wordnet is already up-to-date!\n"
     ]
    }
   ],
   "source": [
    "from nltk.stem import WordNetLemmatizer\n",
    "nltk.download('wordnet')\n",
    "ltr = WordNetLemmatizer()\n"
   ]
  },
  {
   "cell_type": "code",
   "execution_count": 97,
   "metadata": {
    "scrolled": true
   },
   "outputs": [],
   "source": [
    "df['text']=df['text'].apply(lambda text_list: list(map(lambda word:ltr.lemmatize(word,'n'),text_list)))\n",
    "df['text']=df['text'].apply(lambda text_list: list(map(lambda word:ltr.lemmatize(word,'v'),text_list)))\n",
    "df['text']=df['text'].apply(lambda text_list: list(map(lambda word:ltr.lemmatize(word,'a'),text_list)))\n",
    "df['text']=df['text'].apply(lambda text_list: list(map(lambda word:ltr.lemmatize(word,'r'),text_list)))\n",
    "df[\"text\"] = df['text'].apply(lambda rem : (list(filter(lambda x : len(x) > 2 ,rem))))"
   ]
  },
  {
   "cell_type": "code",
   "execution_count": 106,
   "metadata": {},
   "outputs": [
    {
     "data": {
      "text/html": [
       "<div>\n",
       "<style scoped>\n",
       "    .dataframe tbody tr th:only-of-type {\n",
       "        vertical-align: middle;\n",
       "    }\n",
       "\n",
       "    .dataframe tbody tr th {\n",
       "        vertical-align: top;\n",
       "    }\n",
       "\n",
       "    .dataframe thead th {\n",
       "        text-align: right;\n",
       "    }\n",
       "</style>\n",
       "<table border=\"1\" class=\"dataframe\">\n",
       "  <thead>\n",
       "    <tr style=\"text-align: right;\">\n",
       "      <th></th>\n",
       "      <th>text</th>\n",
       "      <th>spam</th>\n",
       "    </tr>\n",
       "  </thead>\n",
       "  <tbody>\n",
       "    <tr>\n",
       "      <th>0</th>\n",
       "      <td>[naturally, irresistible, corporate, identity,...</td>\n",
       "      <td>1</td>\n",
       "    </tr>\n",
       "    <tr>\n",
       "      <th>1</th>\n",
       "      <td>[stock, trade, gunslinger, fanny, merrill, muz...</td>\n",
       "      <td>1</td>\n",
       "    </tr>\n",
       "    <tr>\n",
       "      <th>2</th>\n",
       "      <td>[unbelievable, new, home, make, easy, want, sh...</td>\n",
       "      <td>1</td>\n",
       "    </tr>\n",
       "    <tr>\n",
       "      <th>3</th>\n",
       "      <td>[color, print, special, request, additional, i...</td>\n",
       "      <td>1</td>\n",
       "    </tr>\n",
       "    <tr>\n",
       "      <th>4</th>\n",
       "      <td>[money, get, software, software, compatibility...</td>\n",
       "      <td>1</td>\n",
       "    </tr>\n",
       "    <tr>\n",
       "      <th>5</th>\n",
       "      <td>[great, nnews, hello, welcome, medzonline, gro...</td>\n",
       "      <td>1</td>\n",
       "    </tr>\n",
       "    <tr>\n",
       "      <th>6</th>\n",
       "      <td>[hot, play, motion, homeland, security, invest...</td>\n",
       "      <td>1</td>\n",
       "    </tr>\n",
       "    <tr>\n",
       "      <th>7</th>\n",
       "      <td>[save, money, buy, get, thing, try, cialls, ye...</td>\n",
       "      <td>1</td>\n",
       "    </tr>\n",
       "    <tr>\n",
       "      <th>8</th>\n",
       "      <td>[undeliverable, home, base, business, grownup,...</td>\n",
       "      <td>1</td>\n",
       "    </tr>\n",
       "    <tr>\n",
       "      <th>9</th>\n",
       "      <td>[save, money, buy, get, thing, try, cialls, ye...</td>\n",
       "      <td>1</td>\n",
       "    </tr>\n",
       "  </tbody>\n",
       "</table>\n",
       "</div>"
      ],
      "text/plain": [
       "                                                text  spam\n",
       "0  [naturally, irresistible, corporate, identity,...     1\n",
       "1  [stock, trade, gunslinger, fanny, merrill, muz...     1\n",
       "2  [unbelievable, new, home, make, easy, want, sh...     1\n",
       "3  [color, print, special, request, additional, i...     1\n",
       "4  [money, get, software, software, compatibility...     1\n",
       "5  [great, nnews, hello, welcome, medzonline, gro...     1\n",
       "6  [hot, play, motion, homeland, security, invest...     1\n",
       "7  [save, money, buy, get, thing, try, cialls, ye...     1\n",
       "8  [undeliverable, home, base, business, grownup,...     1\n",
       "9  [save, money, buy, get, thing, try, cialls, ye...     1"
      ]
     },
     "execution_count": 106,
     "metadata": {},
     "output_type": "execute_result"
    }
   ],
   "source": [
    "df.head(10)"
   ]
  },
  {
   "cell_type": "code",
   "execution_count": 98,
   "metadata": {
    "scrolled": true
   },
   "outputs": [],
   "source": [
    "corpus = df['text'].apply(' '.join)"
   ]
  },
  {
   "cell_type": "code",
   "execution_count": 99,
   "metadata": {
    "scrolled": true
   },
   "outputs": [],
   "source": [
    "from sklearn.feature_extraction.text import CountVectorizer\n",
    "cv = CountVectorizer(min_df=10,max_df=400)\n",
    "X = cv.fit_transform(corpus).toarray()\n",
    "Y = df.iloc[:, 1].values\n",
    "\n",
    "x=pd.DataFrame(X)\n",
    "vocab_size = x.shape[1]\n",
    "d = {'Spam': Y}\n",
    "y=pd.DataFrame(data = d)\n",
    "full_matrix = pd.merge(x,y,left_index=True,right_index=True,how='inner')"
   ]
  },
  {
   "cell_type": "code",
   "execution_count": 100,
   "metadata": {},
   "outputs": [],
   "source": [
    "matrix=np.zeros([full_matrix.shape[0],full_matrix.shape[1]-1])\n",
    "for i in range(full_matrix.shape[0]):\n",
    "    matrix[i]=full_matrix.iloc[i,:-1]\n",
    "#print(matrix)"
   ]
  },
  {
   "cell_type": "code",
   "execution_count": 101,
   "metadata": {},
   "outputs": [
    {
     "name": "stderr",
     "output_type": "stream",
     "text": [
      "C:\\Users\\FALCON\\Anaconda3\\lib\\site-packages\\ipykernel_launcher.py:15: DeprecationWarning: \n",
      ".ix is deprecated. Please use\n",
      ".loc for label based indexing or\n",
      ".iloc for positional indexing\n",
      "\n",
      "See the documentation here:\n",
      "http://pandas.pydata.org/pandas-docs/stable/indexing.html#ix-indexer-is-deprecated\n",
      "  from ipykernel import kernelapp as app\n"
     ]
    }
   ],
   "source": [
    "def split_(data,label,frac):\n",
    "    for i in range(data.shape[1]):\n",
    "        x=data[:,i]\n",
    "        data[:,i]=(x-min(x))/(max(x)-min(x)) \n",
    "    #print(data.shape)    \n",
    "    b=np.ones([data.shape[0],1])\n",
    "    label_=np.array(label).reshape(-1,1)\n",
    "    data_final=np.hstack((b,data))\n",
    "    data_final=np.hstack((data_final,label_))\n",
    "    idx=np.random.randint(0,data_final.shape[0],size=int(frac*data_final.shape[0]))\n",
    "    test=data_final[idx,:]\n",
    "    train=np.delete(data_final,idx,axis=0)\n",
    "    return train,test\n",
    "\n",
    "label= full_matrix.ix[:,'Spam'].to_list()\n",
    "train,test=split_(matrix,label,.3)"
   ]
  },
  {
   "cell_type": "code",
   "execution_count": 102,
   "metadata": {},
   "outputs": [],
   "source": [
    "def sgd_predict(w,x):\n",
    "    y= np.dot(w,x)\n",
    "    return y\n",
    "\n",
    "def sgd_gradiant(train,lmd,T):\n",
    "    theta=np.zeros(train.shape[1]-1)\n",
    "    w=theta\n",
    "    w_t=np.zeros([T,len(w)])\n",
    "    \n",
    "    for t in range(1,T):\n",
    "        w=np.divide(theta,lmd*t)\n",
    "        for i in range(train.shape[0]):\n",
    "            y_est=sgd_predict(w,train[i,:-1])\n",
    "            if train[i,-1]*y_est<1:\n",
    "                theta=theta+np.multiply(train[i,-1],train[i,:-1])\n",
    "            else: pass\n",
    "            w_t[t]=w \n",
    "    return np.average(w_t,axis=0)\n",
    "\n",
    "for i in range(train.shape[0]):\n",
    "    if train[i,-1]==0:\n",
    "        train[i,-1]=-1\n",
    "    else:pass    \n",
    "for i in range(test.shape[0]):\n",
    "    if test[i,-1]==0:\n",
    "        test[i,-1]=-1\n",
    "    else:pass        \n",
    "#print(train)    \n",
    "w=sgd_gradiant(train,2,1000)\n",
    "\n",
    "pr_out=[round(sgd_predict(w,test[i,:-1]),3) for i in range(test.shape[0])]\n",
    "ac_out=[test[i,-1] for i in range(test.shape[0])]\n",
    "\n",
    "def accuracy(predicted,actual):\n",
    "    count=0\n",
    "    for i,j in zip(predicted,actual):\n",
    "        if i>0 and j>0:\n",
    "            count+=1\n",
    "        elif i<0 and j<0:\n",
    "            count+=1\n",
    "        else:pass\n",
    "    return (count/len(actual))*100    \n",
    "    \n"
   ]
  },
  {
   "cell_type": "code",
   "execution_count": 103,
   "metadata": {},
   "outputs": [
    {
     "name": "stdout",
     "output_type": "stream",
     "text": [
      "Accuracy of SVM model:  91.27634660421545\n"
     ]
    }
   ],
   "source": [
    "print('Accuracy of SVM model: ', accuracy(pr_out,ac_out))"
   ]
  },
  {
   "cell_type": "code",
   "execution_count": null,
   "metadata": {},
   "outputs": [],
   "source": []
  }
 ],
 "metadata": {
  "kernelspec": {
   "display_name": "Python 3",
   "language": "python",
   "name": "python3"
  },
  "language_info": {
   "codemirror_mode": {
    "name": "ipython",
    "version": 3
   },
   "file_extension": ".py",
   "mimetype": "text/x-python",
   "name": "python",
   "nbconvert_exporter": "python",
   "pygments_lexer": "ipython3",
   "version": "3.7.3"
  }
 },
 "nbformat": 4,
 "nbformat_minor": 2
}
