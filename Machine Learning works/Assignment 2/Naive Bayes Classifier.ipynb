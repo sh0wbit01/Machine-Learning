{
 "cells": [
  {
   "cell_type": "code",
   "execution_count": 1,
   "metadata": {},
   "outputs": [
    {
     "name": "stderr",
     "output_type": "stream",
     "text": [
      "[nltk_data] Downloading package stopwords to\n",
      "[nltk_data]     C:\\Users\\FALCON\\AppData\\Roaming\\nltk_data...\n",
      "[nltk_data]   Package stopwords is already up-to-date!\n",
      "[nltk_data] Downloading package wordnet to\n",
      "[nltk_data]     C:\\Users\\FALCON\\AppData\\Roaming\\nltk_data...\n",
      "[nltk_data]   Package wordnet is already up-to-date!\n"
     ]
    }
   ],
   "source": [
    "import numpy as np\n",
    "import pandas as pd\n",
    "import string\n",
    "import nltk\n",
    "import re\n",
    "nltk.download('stopwords')\n",
    "from nltk.corpus import stopwords\n",
    "\n",
    "df = pd.read_csv('emails.csv')\n",
    "df.drop_duplicates(inplace=True)\n",
    "df.reset_index(drop=True,inplace=True)\n",
    "\n",
    "stop = stopwords.words('english')\n",
    "df['text'] = df['text'].map(lambda text:re.sub('[^a-zA-Z-\\']{1,}', ' ',text))\n",
    "df.text = [x.strip('Subject') for x in df.text]\n",
    "df['text'] = df['text'].apply(lambda x: x.split())\n",
    "df['text']=df['text'].apply(lambda text_list: list(filter(lambda text:text not in stop,text_list)))\n",
    "\n",
    "from nltk.stem import WordNetLemmatizer\n",
    "nltk.download('wordnet')\n",
    "ltr = WordNetLemmatizer()\n"
   ]
  },
  {
   "cell_type": "code",
   "execution_count": 2,
   "metadata": {},
   "outputs": [],
   "source": [
    "df['text']=df['text'].apply(lambda text_list: list(map(lambda word:ltr.lemmatize(word,'n'),text_list)))\n",
    "df['text']=df['text'].apply(lambda text_list: list(map(lambda word:ltr.lemmatize(word,'v'),text_list)))\n",
    "df['text']=df['text'].apply(lambda text_list: list(map(lambda word:ltr.lemmatize(word,'a'),text_list)))\n",
    "df['text']=df['text'].apply(lambda text_list: list(map(lambda word:ltr.lemmatize(word,'r'),text_list)))\n",
    "\n",
    "df[\"text\"] = df['text'].apply(lambda rem : (list(filter(lambda x : len(x) > 2 ,rem))))"
   ]
  },
  {
   "cell_type": "code",
   "execution_count": 3,
   "metadata": {},
   "outputs": [],
   "source": [
    "corpus = df['text'].apply(' '.join)"
   ]
  },
  {
   "cell_type": "code",
   "execution_count": 4,
   "metadata": {},
   "outputs": [],
   "source": [
    "from sklearn.feature_extraction.text import CountVectorizer\n",
    "cv = CountVectorizer(min_df=10)\n",
    "X = cv.fit_transform(corpus).toarray()\n",
    "Y = df.iloc[:, 1].values\n",
    "\n",
    "x=pd.DataFrame(X)\n",
    "vocab_size = x.shape[1]\n",
    "d = {'Spam': Y}\n",
    "y=pd.DataFrame(data = d)\n",
    "full_matrix = pd.merge(x,y,left_index=True,right_index=True,how='inner')"
   ]
  },
  {
   "cell_type": "code",
   "execution_count": 5,
   "metadata": {},
   "outputs": [],
   "source": [
    "#Splitting train and test data randomly in 70-30 ratio\n",
    "split = np.random.rand(len(full_matrix)) < 0.3\n",
    "test=full_matrix[split]\n",
    "train=full_matrix[~split]\n"
   ]
  },
  {
   "cell_type": "code",
   "execution_count": 6,
   "metadata": {},
   "outputs": [],
   "source": [
    "#Labeling X_train and Y_train for training data\n",
    "Y_train=train.loc[:,'Spam']\n",
    "X_train = train.loc[:,train.columns != 'Spam']"
   ]
  },
  {
   "cell_type": "code",
   "execution_count": 7,
   "metadata": {},
   "outputs": [
    {
     "data": {
      "text/plain": [
       "4072"
      ]
     },
     "execution_count": 7,
     "metadata": {},
     "output_type": "execute_result"
    }
   ],
   "source": [
    "Total_mails = X_train.shape[0]\n",
    "Total_mails"
   ]
  },
  {
   "cell_type": "code",
   "execution_count": 8,
   "metadata": {},
   "outputs": [
    {
     "data": {
      "text/plain": [
       "997"
      ]
     },
     "execution_count": 8,
     "metadata": {},
     "output_type": "execute_result"
    }
   ],
   "source": [
    "Total_spam = Y_train.sum()\n",
    "Total_spam"
   ]
  },
  {
   "cell_type": "markdown",
   "metadata": {},
   "source": [
    "Calculating P(SPAM)\n"
   ]
  },
  {
   "cell_type": "code",
   "execution_count": 9,
   "metadata": {},
   "outputs": [
    {
     "data": {
      "text/plain": [
       "0.24484282907662083"
      ]
     },
     "execution_count": 9,
     "metadata": {},
     "output_type": "execute_result"
    }
   ],
   "source": [
    "prob_of_spam = (Total_spam / Total_mails)\n",
    "prob_of_spam"
   ]
  },
  {
   "cell_type": "code",
   "execution_count": 10,
   "metadata": {},
   "outputs": [],
   "source": [
    "words_per_emails = X_train.sum(axis=1)\n",
    "#words_per_emails"
   ]
  },
  {
   "cell_type": "code",
   "execution_count": 11,
   "metadata": {},
   "outputs": [
    {
     "data": {
      "text/plain": [
       "488575"
      ]
     },
     "execution_count": 11,
     "metadata": {},
     "output_type": "execute_result"
    }
   ],
   "source": [
    "total_words = words_per_emails.sum()\n",
    "total_words"
   ]
  },
  {
   "cell_type": "code",
   "execution_count": 12,
   "metadata": {},
   "outputs": [
    {
     "data": {
      "text/plain": [
       "997"
      ]
     },
     "execution_count": 12,
     "metadata": {},
     "output_type": "execute_result"
    }
   ],
   "source": [
    "Train_Spam_matrix = train.loc[train['Spam'] == 1]\n",
    "Train_Spam_matrix.shape[0]\n"
   ]
  },
  {
   "cell_type": "code",
   "execution_count": 13,
   "metadata": {},
   "outputs": [
    {
     "name": "stderr",
     "output_type": "stream",
     "text": [
      "C:\\Users\\FALCON\\Anaconda3\\lib\\site-packages\\pandas\\core\\frame.py:3940: SettingWithCopyWarning: \n",
      "A value is trying to be set on a copy of a slice from a DataFrame\n",
      "\n",
      "See the caveats in the documentation: http://pandas.pydata.org/pandas-docs/stable/indexing.html#indexing-view-versus-copy\n",
      "  errors=errors)\n"
     ]
    },
    {
     "data": {
      "text/plain": [
       "94698"
      ]
     },
     "execution_count": 13,
     "metadata": {},
     "output_type": "execute_result"
    }
   ],
   "source": [
    "Train_Spam_matrix.drop('Spam',axis=1,inplace=True)\n",
    "Total_words_in_spam_mails = (Train_Spam_matrix.sum(axis=1)).sum()\n",
    "Total_words_in_spam_mails"
   ]
  },
  {
   "cell_type": "markdown",
   "metadata": {},
   "source": [
    "Creating Non-Spam or Ham for Trainning data"
   ]
  },
  {
   "cell_type": "code",
   "execution_count": 14,
   "metadata": {},
   "outputs": [
    {
     "data": {
      "text/plain": [
       "3075"
      ]
     },
     "execution_count": 14,
     "metadata": {},
     "output_type": "execute_result"
    }
   ],
   "source": [
    "Train_Ham_matrix = train.loc[train['Spam'] == 0]\n",
    "Train_Ham_matrix.shape[0]\n"
   ]
  },
  {
   "cell_type": "code",
   "execution_count": 15,
   "metadata": {},
   "outputs": [
    {
     "data": {
      "text/plain": [
       "393877"
      ]
     },
     "execution_count": 15,
     "metadata": {},
     "output_type": "execute_result"
    }
   ],
   "source": [
    "Train_Ham_matrix.drop('Spam',axis=1,inplace=True)\n",
    "Total_words_in_ham_mails = (Train_Ham_matrix.sum(axis=1)).sum()\n",
    "Total_words_in_ham_mails"
   ]
  },
  {
   "cell_type": "code",
   "execution_count": 16,
   "metadata": {},
   "outputs": [],
   "source": [
    "words_in_spam = Train_Spam_matrix.sum(axis=0)+1\n",
    "words_in_ham = Train_Ham_matrix.sum(axis=0)+1"
   ]
  },
  {
   "cell_type": "markdown",
   "metadata": {},
   "source": [
    "Calculating P(Word|Spam)"
   ]
  },
  {
   "cell_type": "code",
   "execution_count": 17,
   "metadata": {},
   "outputs": [],
   "source": [
    "prob_words_spam = words_in_spam / (Total_words_in_spam_mails + vocab_size)"
   ]
  },
  {
   "cell_type": "markdown",
   "metadata": {},
   "source": [
    "Calculating P(Word|Ham)"
   ]
  },
  {
   "cell_type": "code",
   "execution_count": 18,
   "metadata": {},
   "outputs": [],
   "source": [
    "prob_words_ham = words_in_ham / (Total_words_in_ham_mails + vocab_size)"
   ]
  },
  {
   "cell_type": "markdown",
   "metadata": {},
   "source": [
    "P(Words) - probability that a word occurs"
   ]
  },
  {
   "cell_type": "code",
   "execution_count": 19,
   "metadata": {},
   "outputs": [],
   "source": [
    "prob_words_all = (X_train.sum(axis=0)+1) / (total_words + vocab_size)"
   ]
  },
  {
   "cell_type": "code",
   "execution_count": 21,
   "metadata": {},
   "outputs": [],
   "source": [
    "#Labeling X_test and Y_test for test data\n",
    "Y_test=test.loc[:,'Spam']\n",
    "X_test = test.loc[:,test.columns != 'Spam']"
   ]
  },
  {
   "cell_type": "code",
   "execution_count": 22,
   "metadata": {},
   "outputs": [],
   "source": [
    "log_spam_words = X_test.dot(np.log(prob_words_spam) + np.log (prob_of_spam))\n",
    "log_ham_words  = X_test.dot(np.log(prob_words_ham)  + np.log (1 - prob_of_spam))\n",
    "prediction = log_spam_words > log_ham_words"
   ]
  },
  {
   "cell_type": "code",
   "execution_count": 23,
   "metadata": {},
   "outputs": [
    {
     "name": "stdout",
     "output_type": "stream",
     "text": [
      "Accuracy:  0.862600123228589\n"
     ]
    }
   ],
   "source": [
    "Correct_pred = (Y_test == prediction).sum()\n",
    "Wrong_pred = X_test.shape[0] - Correct_pred\n",
    "print('Accuracy of Naive Bayes classifier: ', Correct_pred/X_test.shape[0])"
   ]
  }
 ],
 "metadata": {
  "kernelspec": {
   "display_name": "Python 3",
   "language": "python",
   "name": "python3"
  },
  "language_info": {
   "codemirror_mode": {
    "name": "ipython",
    "version": 3
   },
   "file_extension": ".py",
   "mimetype": "text/x-python",
   "name": "python",
   "nbconvert_exporter": "python",
   "pygments_lexer": "ipython3",
   "version": "3.7.3"
  }
 },
 "nbformat": 4,
 "nbformat_minor": 2
}
