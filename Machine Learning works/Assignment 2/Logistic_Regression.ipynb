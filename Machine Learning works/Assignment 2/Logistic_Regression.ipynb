{
 "cells": [
  {
   "cell_type": "code",
   "execution_count": 44,
   "metadata": {
    "scrolled": true
   },
   "outputs": [],
   "source": [
    "#---------------------------------------logistic Regression-------------------------------------------------------------\n",
    "import numpy as np\n",
    "import pandas as pd\n",
    "import string\n",
    "\n",
    "df = pd.read_csv('emails.csv')\n",
    "#df['spam'].sum()"
   ]
  },
  {
   "cell_type": "code",
   "execution_count": 45,
   "metadata": {
    "scrolled": true
   },
   "outputs": [],
   "source": [
    "df.drop_duplicates(inplace=True)\n",
    "df.reset_index(drop=True,inplace=True)\n",
    "#df.info()"
   ]
  },
  {
   "cell_type": "code",
   "execution_count": 46,
   "metadata": {
    "scrolled": true
   },
   "outputs": [
    {
     "name": "stderr",
     "output_type": "stream",
     "text": [
      "[nltk_data] Downloading package stopwords to\n",
      "[nltk_data]     C:\\Users\\FALCON\\AppData\\Roaming\\nltk_data...\n",
      "[nltk_data]   Package stopwords is already up-to-date!\n"
     ]
    }
   ],
   "source": [
    "import nltk\n",
    "import re\n",
    "nltk.download('stopwords')\n",
    "from nltk.corpus import stopwords\n",
    "stop = stopwords.words('english')\n"
   ]
  },
  {
   "cell_type": "code",
   "execution_count": 47,
   "metadata": {
    "scrolled": true
   },
   "outputs": [],
   "source": [
    "#removing punctuations,stopwords and numbers from data\n",
    "df['text'] = df['text'].map(lambda text:re.sub('[^a-zA-Z-\\']{1,}', ' ',text))\n",
    "df.text = [x.strip('Subject') for x in df.text]\n",
    "df['text'] = df['text'].apply(lambda x: x.split())\n",
    "#df"
   ]
  },
  {
   "cell_type": "code",
   "execution_count": 48,
   "metadata": {
    "scrolled": true
   },
   "outputs": [],
   "source": [
    "df['text']=df['text'].apply(lambda text_list: list(filter(lambda text:text not in stop,text_list)))"
   ]
  },
  {
   "cell_type": "code",
   "execution_count": 49,
   "metadata": {
    "scrolled": true
   },
   "outputs": [
    {
     "name": "stderr",
     "output_type": "stream",
     "text": [
      "[nltk_data] Downloading package wordnet to\n",
      "[nltk_data]     C:\\Users\\FALCON\\AppData\\Roaming\\nltk_data...\n",
      "[nltk_data]   Package wordnet is already up-to-date!\n"
     ]
    }
   ],
   "source": [
    "from nltk.stem import WordNetLemmatizer\n",
    "nltk.download('wordnet')\n",
    "ltr = WordNetLemmatizer()\n"
   ]
  },
  {
   "cell_type": "code",
   "execution_count": 50,
   "metadata": {
    "scrolled": true
   },
   "outputs": [],
   "source": [
    "df['text']=df['text'].apply(lambda text_list: list(map(lambda word:ltr.lemmatize(word,'n'),text_list)))\n",
    "df['text']=df['text'].apply(lambda text_list: list(map(lambda word:ltr.lemmatize(word,'v'),text_list)))\n",
    "df['text']=df['text'].apply(lambda text_list: list(map(lambda word:ltr.lemmatize(word,'a'),text_list)))\n",
    "df['text']=df['text'].apply(lambda text_list: list(map(lambda word:ltr.lemmatize(word,'r'),text_list)))\n",
    "df[\"text\"] = df['text'].apply(lambda rem : (list(filter(lambda x : len(x) > 2 ,rem))))"
   ]
  },
  {
   "cell_type": "code",
   "execution_count": 51,
   "metadata": {
    "scrolled": true
   },
   "outputs": [],
   "source": [
    "corpus = df['text'].apply(' '.join)"
   ]
  },
  {
   "cell_type": "code",
   "execution_count": 53,
   "metadata": {
    "scrolled": true
   },
   "outputs": [],
   "source": [
    "#creating featres from dataframe\n",
    "from sklearn.feature_extraction.text import CountVectorizer\n",
    "cv = CountVectorizer(min_df=10,max_df=400)\n",
    "X = cv.fit_transform(corpus).toarray()\n",
    "Y = df.iloc[:, 1].values\n",
    "\n",
    "x=pd.DataFrame(X)\n",
    "vocab_size = x.shape[1]\n",
    "d = {'Spam': Y}\n",
    "y=pd.DataFrame(data = d)\n",
    "full_matrix = pd.merge(x,y,left_index=True,right_index=True,how='inner')\n"
   ]
  },
  {
   "cell_type": "code",
   "execution_count": 54,
   "metadata": {},
   "outputs": [],
   "source": [
    "#Splitting train and test data randomly in 70-30 ratio\n",
    "split = np.random.rand(len(full_matrix)) < 0.3\n",
    "test=full_matrix[split]\n",
    "train=full_matrix[~split]"
   ]
  },
  {
   "cell_type": "code",
   "execution_count": 55,
   "metadata": {},
   "outputs": [],
   "source": [
    "#Labeling X_train and Y_train for training data\n",
    "Y_train=train.loc[:,'Spam']\n",
    "X_train = train.loc[:,train.columns != 'Spam']"
   ]
  },
  {
   "cell_type": "code",
   "execution_count": 56,
   "metadata": {},
   "outputs": [],
   "source": [
    "#Labeling X_test and Y_test for test data\n",
    "Y_test=test.loc[:,'Spam']\n",
    "X_test = test.loc[:,test.columns != 'Spam']"
   ]
  },
  {
   "cell_type": "code",
   "execution_count": 59,
   "metadata": {},
   "outputs": [
    {
     "name": "stdout",
     "output_type": "stream",
     "text": [
      "Accuracy of Logistic model:  90.58\n"
     ]
    }
   ],
   "source": [
    "#i am not so much good in classes but making this code with direct iteration is worse\n",
    "#sometimes even i forgot the flow of program in iterations\n",
    "# so lets try with class\n",
    "\n",
    "class LRgression:\n",
    " #don't panic this is just constructor of this class which have some default values\n",
    "\n",
    "    def __init__(self, lr, iteration, intercept=True, vbose=False):\n",
    "    #print(\"-----------------------this is my constuctor-----------------------------------------\")\n",
    "        #this is my learning rate means how fast i go for goal\n",
    "        self.lr = lr\n",
    "\n",
    "        #this ensures that when i have to stop\n",
    "        self.vbose=vbose \n",
    "\n",
    "         #this track number of iterations i am using\n",
    "        self.iteration = iteration\n",
    "\n",
    "         #this is just intercept whic i provide true\n",
    "        self.intercept = intercept\n",
    "    \n",
    "    #this is the function which deal with intercept and update\n",
    "    def Add_intercept(self, X):\n",
    "        intercept = np.ones((X.shape[0], 1))\n",
    "        #print(np.concatenate((intercept, X), axis=1))\n",
    "        #print(\"abc\")\n",
    "        return np.concatenate((intercept, X), axis=1)\n",
    "    \n",
    "    #this is for just increasing the function i can do it by iterations but i think\n",
    "    #functions are more interasting\n",
    "    def Sigmoid(self, z):\n",
    "        A=1 / (1 + np.exp(-z))\n",
    "        #print(A)\n",
    "        return A\n",
    "\n",
    "    #this track the loss of my predictions and this is just implementation of formula\n",
    "    #given in book so do not be panic i didn't do any great work i just write it from book\n",
    "    def Loss(self, h, y):\n",
    "        L=(-y * np.log(h) - (1 - y) * np.log(1 - h)).mean()\n",
    "        #print(L)\n",
    "        return L\n",
    "    \n",
    "    #this function do the actual job i say it heart of my code\n",
    "    def fit(self, X, y):\n",
    "        if self.intercept:\n",
    "            X = self.Add_intercept(X)\n",
    "            #print(X)\n",
    "        \n",
    "        # weights initialization by zero it means all the values of weights is 0\n",
    "        self.theta = np.zeros(X.shape[1])\n",
    "        #print(self.theta)\n",
    "        #i am not able to think about a recursive function for it so just go with for loop\n",
    "        #and make code a little bit simple\n",
    "        for i in range(self.iteration):\n",
    "            z = np.dot(X, self.theta)\n",
    "            h = self.Sigmoid(z)\n",
    "            #print(h)\n",
    "            #print('singh')\n",
    "            gradient = np.dot(X.T, (h - y)) / y.size\n",
    "            self.theta -= self.lr * gradient\n",
    "            \n",
    "            if(self.vbose == True and i % 10000 == 0):\n",
    "                z = np.dot(X, self.theta)\n",
    "                h = self.Sigmoid(z)\n",
    "                print(f'loss: {self.Loss(h, y)} \\t')\n",
    "    \n",
    "    def predict_prob(self, X):\n",
    "        if self.intercept:\n",
    "            X = self.Add_intercept(X)\n",
    "        \n",
    "        return self.Sigmoid(np.dot(X, self.theta))\n",
    "    \n",
    "    def predict(self, X, threshold):\n",
    "        return self.predict_prob(X) >= threshold\n",
    "\n",
    "\n",
    "\n",
    "#now this is show time, i have to just call this class accordingly\n",
    "#this is time to show the ability of my code\n",
    "#print(\"-------------------------------game start----------------------------------------------------------------\")\n",
    "\n",
    "model = LRgression(lr=.1, iteration=100)\n",
    "model.fit(X_train, Y_train)\n",
    "\n",
    "predictions = model.predict(X_test,0.5)\n",
    "#this shows the accuracy of predictions\n",
    "print('Accuracy of Logistic model: ',round((predictions == Y_test).mean(),4)*100)"
   ]
  },
  {
   "cell_type": "code",
   "execution_count": 60,
   "metadata": {},
   "outputs": [
    {
     "data": {
      "image/png": "[encoded data removed]",
      "text/plain": [
       "<Figure size 432x288 with 1 Axes>"
      ]
     },
     "metadata": {
      "needs_background": "light"
     },
     "output_type": "display_data"
    }
   ],
   "source": [
    "import seaborn as sns\n",
    "sns.regplot(x=Y_test, y=predictions, logistic=True)\n",
    "result=pd.DataFrame(predictions)\n",
    "result=result*1\n",
    "#result.head(10)"
   ]
  },
  {
   "cell_type": "code",
   "execution_count": 61,
   "metadata": {},
   "outputs": [
    {
     "data": {
      "text/plain": [
       "<matplotlib.axes._subplots.AxesSubplot at 0xdc35278>"
      ]
     },
     "execution_count": 61,
     "metadata": {},
     "output_type": "execute_result"
    },
    {
     "data": {
      "image/png": "[encoded data removed]",
      "text/plain": [
       "<Figure size 432x288 with 1 Axes>"
      ]
     },
     "metadata": {
      "needs_background": "light"
     },
     "output_type": "display_data"
    }
   ],
   "source": [
    "import seaborn as sns\n",
    "sns.regplot(x=Y_test, y=predictions)"
   ]
  },
  {
   "cell_type": "code",
   "execution_count": 62,
   "metadata": {},
   "outputs": [],
   "source": [
    "result = result.head(100)"
   ]
  },
  {
   "cell_type": "code",
   "execution_count": 63,
   "metadata": {},
   "outputs": [
    {
     "data": {
      "image/png": "[encoded data removed]",
      "text/plain": [
       "<Figure size 432x288 with 1 Axes>"
      ]
     },
     "metadata": {
      "needs_background": "light"
     },
     "output_type": "display_data"
    }
   ],
   "source": [
    "result.plot(kind = 'bar')\n",
    "\n",
    "import matplotlib.pyplot as plt \n",
    "plt.grid(which='major', linestyle='-', linewidth='0.5')\n",
    "plt.grid(which='minor', linestyle=':', linewidth='0.5', color='black')\n",
    "plt.show()"
   ]
  },
  {
   "cell_type": "code",
   "execution_count": null,
   "metadata": {},
   "outputs": [],
   "source": []
  }
 ],
 "metadata": {
  "kernelspec": {
   "display_name": "Python 3",
   "language": "python",
   "name": "python3"
  },
  "language_info": {
   "codemirror_mode": {
    "name": "ipython",
    "version": 3
   },
   "file_extension": ".py",
   "mimetype": "text/x-python",
   "name": "python",
   "nbconvert_exporter": "python",
   "pygments_lexer": "ipython3",
   "version": "3.7.3"
  }
 },
 "nbformat": 4,
 "nbformat_minor": 2
}
